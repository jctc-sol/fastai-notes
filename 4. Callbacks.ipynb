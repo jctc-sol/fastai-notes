{
 "cells": [
  {
   "cell_type": "code",
   "execution_count": 1,
   "metadata": {},
   "outputs": [],
   "source": [
    "import torch, torchvision\n",
    "import torch.nn as nn\n",
    "import torch.nn.functional as F\n",
    "import matplotlib.pyplot as plt\n",
    "from time import sleep\n",
    "from torch import optim\n",
    "from torch.utils.data import DataLoader, RandomSampler"
   ]
  },
  {
   "cell_type": "markdown",
   "metadata": {},
   "source": [
    "### What is a callback?\n",
    "- a callback is a function that you write *in case something happens*. - - for example, an `on_click_callback()` function will be executed everytime a button is clicked on a webpage."
   ]
  },
  {
   "cell_type": "code",
   "execution_count": 2,
   "metadata": {},
   "outputs": [
    {
     "data": {
      "application/vnd.jupyter.widget-view+json": {
       "model_id": "47a913de8eac41fa8f5521be3877c6f8",
       "version_major": 2,
       "version_minor": 0
      },
      "text/plain": [
       "Button(description='Click Me!', style=ButtonStyle())"
      ]
     },
     "metadata": {},
     "output_type": "display_data"
    },
    {
     "name": "stdout",
     "output_type": "stream",
     "text": [
      "You clicked on me!\n",
      "You clicked on me!\n"
     ]
    }
   ],
   "source": [
    "import ipywidgets\n",
    "\n",
    "def custom_callback(o):\n",
    "    print('You clicked on me!')\n",
    "        \n",
    "button = ipywidgets.Button(description='Click Me!')\n",
    "button.on_click(custom_callback)\n",
    "button"
   ]
  },
  {
   "cell_type": "markdown",
   "metadata": {},
   "source": [
    "### Callback toy example\n",
    "\n",
    "Consider the follow basic routine"
   ]
  },
  {
   "cell_type": "code",
   "execution_count": 3,
   "metadata": {},
   "outputs": [
    {
     "data": {
      "text/plain": [
       "30"
      ]
     },
     "execution_count": 3,
     "metadata": {},
     "output_type": "execute_result"
    }
   ],
   "source": [
    "def slow_calculation(cb=None):\n",
    "    res = 0\n",
    "    for i in range(5):\n",
    "        res+=i**2\n",
    "        sleep(1)\n",
    "        if cb: cb(i)\n",
    "    return res\n",
    "\n",
    "slow_calculation()"
   ]
  },
  {
   "cell_type": "markdown",
   "metadata": {},
   "source": [
    "now, lets add a callback that displays progress during each step"
   ]
  },
  {
   "cell_type": "code",
   "execution_count": 4,
   "metadata": {},
   "outputs": [
    {
     "name": "stdout",
     "output_type": "stream",
     "text": [
      "We're at epoch 0\n",
      "We're at epoch 1\n",
      "We're at epoch 2\n",
      "We're at epoch 3\n",
      "We're at epoch 4\n"
     ]
    },
    {
     "data": {
      "text/plain": [
       "30"
      ]
     },
     "execution_count": 4,
     "metadata": {},
     "output_type": "execute_result"
    }
   ],
   "source": [
    "def show_progress(epoch):\n",
    "    print(f\"We're at epoch {epoch}\")\n",
    "    \n",
    "slow_calculation(show_progress)"
   ]
  },
  {
   "cell_type": "markdown",
   "metadata": {},
   "source": [
    "suppose now we want to add a custom message to show_progress, so we modify it as follows"
   ]
  },
  {
   "cell_type": "code",
   "execution_count": 32,
   "metadata": {},
   "outputs": [
    {
     "ename": "TypeError",
     "evalue": "show_progress() missing 1 required positional argument: 'epoch'",
     "output_type": "error",
     "traceback": [
      "\u001b[0;31m---------------------------------------------------------------------------\u001b[0m",
      "\u001b[0;31mTypeError\u001b[0m                                 Traceback (most recent call last)",
      "\u001b[0;32m<ipython-input-32-f440dfebd836>\u001b[0m in \u001b[0;36m<module>\u001b[0;34m\u001b[0m\n\u001b[1;32m      2\u001b[0m     \u001b[0mprint\u001b[0m\u001b[0;34m(\u001b[0m\u001b[0;34mf\"{msg} - we're at epoch {epoch}\"\u001b[0m\u001b[0;34m)\u001b[0m\u001b[0;34m\u001b[0m\u001b[0;34m\u001b[0m\u001b[0m\n\u001b[1;32m      3\u001b[0m \u001b[0;34m\u001b[0m\u001b[0m\n\u001b[0;32m----> 4\u001b[0;31m \u001b[0mslow_calculation\u001b[0m\u001b[0;34m(\u001b[0m\u001b[0mshow_progress\u001b[0m\u001b[0;34m(\u001b[0m\u001b[0;34m'Hello'\u001b[0m\u001b[0;34m)\u001b[0m\u001b[0;34m)\u001b[0m\u001b[0;34m\u001b[0m\u001b[0;34m\u001b[0m\u001b[0m\n\u001b[0m",
      "\u001b[0;31mTypeError\u001b[0m: show_progress() missing 1 required positional argument: 'epoch'"
     ]
    }
   ],
   "source": [
    "def show_progress(msg, epoch):\n",
    "    print(f\"{msg} - we're at epoch {epoch}\")\n",
    "    \n",
    "slow_calculation(show_progress('Hello'))"
   ]
  },
  {
   "cell_type": "markdown",
   "metadata": {},
   "source": [
    "### Lambda function \n",
    "\n",
    "but now, the same code does not work because `show_progress` now takes two parameters, but when `slow_calcultion` calls it, it only passes it one via `cb(i)`. One way of resolving this is to use `lambda` function that allows one to dynamically parameterize a parameter."
   ]
  },
  {
   "cell_type": "code",
   "execution_count": 15,
   "metadata": {},
   "outputs": [
    {
     "name": "stdout",
     "output_type": "stream",
     "text": [
      "Hello - we're at epoch 0\n",
      "Hello - we're at epoch 1\n",
      "Hello - we're at epoch 2\n",
      "Hello - we're at epoch 3\n",
      "Hello - we're at epoch 4\n"
     ]
    },
    {
     "data": {
      "text/plain": [
       "30"
      ]
     },
     "execution_count": 15,
     "metadata": {},
     "output_type": "execute_result"
    }
   ],
   "source": [
    "slow_calculation(lambda o: show_progress('Hello', o))"
   ]
  },
  {
   "cell_type": "markdown",
   "metadata": {},
   "source": [
    "The `lambda o: show_progress('Hello', o)` essentially creates a new function that takes in a single parameter `o`. We can rewrite this process to make `show_progress` easier to call by creating a new function that returns an inner function."
   ]
  },
  {
   "cell_type": "code",
   "execution_count": 5,
   "metadata": {},
   "outputs": [
    {
     "name": "stdout",
     "output_type": "stream",
     "text": [
      "Nice! - we're at epoch 0\n",
      "Nice! - we're at epoch 1\n",
      "Nice! - we're at epoch 2\n",
      "Nice! - we're at epoch 3\n",
      "Nice! - we're at epoch 4\n"
     ]
    },
    {
     "data": {
      "text/plain": [
       "30"
      ]
     },
     "execution_count": 5,
     "metadata": {},
     "output_type": "execute_result"
    }
   ],
   "source": [
    "def make_show_progress(msg):\n",
    "    def _inner(epoch): print(f\"{msg} - we're at epoch {epoch}\")\n",
    "    return _inner\n",
    "\n",
    "slow_calculation(make_show_progress('Nice!'))"
   ]
  },
  {
   "cell_type": "markdown",
   "metadata": {},
   "source": [
    "### Partial function\n",
    "\n",
    "Another way of achieving this is through the use of `partial` function as follows."
   ]
  },
  {
   "cell_type": "code",
   "execution_count": 31,
   "metadata": {},
   "outputs": [
    {
     "name": "stdout",
     "output_type": "stream",
     "text": [
      "Awesome! - we're at epoch 0\n",
      "Awesome! - we're at epoch 1\n",
      "Awesome! - we're at epoch 2\n",
      "Awesome! - we're at epoch 3\n",
      "Awesome! - we're at epoch 4\n"
     ]
    },
    {
     "data": {
      "text/plain": [
       "30"
      ]
     },
     "execution_count": 31,
     "metadata": {},
     "output_type": "execute_result"
    }
   ],
   "source": [
    "from functools import partial\n",
    "\n",
    "slow_calculation(partial(show_progress, 'Awesome!'))"
   ]
  },
  {
   "cell_type": "markdown",
   "metadata": {},
   "source": [
    "### Callbacks as callable classes\n",
    "\n",
    "This is the typical pattern in FastAI, and as we can see, it provides the most minimalistic and natural pattern compared to the ones above."
   ]
  },
  {
   "cell_type": "code",
   "execution_count": 7,
   "metadata": {},
   "outputs": [
    {
     "name": "stdout",
     "output_type": "stream",
     "text": [
      "Woah! - epoch 0\n",
      "Woah! - epoch 1\n",
      "Woah! - epoch 2\n",
      "Woah! - epoch 3\n",
      "Woah! - epoch 4\n"
     ]
    },
    {
     "data": {
      "text/plain": [
       "30"
      ]
     },
     "execution_count": 7,
     "metadata": {},
     "output_type": "execute_result"
    }
   ],
   "source": [
    "class ProgressShowingCallback():\n",
    "    def __init__(self, msg='hello'): self.msg = msg\n",
    "    def __call__(self, epoch): print(f'{self.msg} - epoch {epoch}')\n",
    "\n",
    "# instantiate callback\n",
    "cb = ProgressShowingCallback('Woah!')\n",
    "\n",
    "# use the callback in slow_calculation\n",
    "slow_calculation(cb)"
   ]
  },
  {
   "cell_type": "markdown",
   "metadata": {},
   "source": [
    "### *args & **kargs\n",
    "\n",
    "- `*args` represents enumerated arguments, while `**kwargs` represents key-word arguments. The `*` indicates there can be arbitrary number of these arguments. \n",
    "\n",
    "- one of the use case is to use `*args` and `**kwargs` in function definitions to provide flexibility of handling  arguments"
   ]
  },
  {
   "cell_type": "code",
   "execution_count": 21,
   "metadata": {},
   "outputs": [
    {
     "name": "stdout",
     "output_type": "stream",
     "text": [
      "(1, 2, 3) and {'kwarg1': 4, 'kwargs': 5}\n"
     ]
    }
   ],
   "source": [
    "def args_and_kwargs(*args, **kwargs):\n",
    "    print(f'{args} and {kwargs}')\n",
    "    \n",
    "args_and_kwargs(1,2,3,kwarg1=4,kwargs=5)"
   ]
  },
  {
   "cell_type": "markdown",
   "metadata": {},
   "source": [
    "### Check callback method is defined\n",
    "\n",
    "- in our control process, we can check a callback to see whether a method is defined"
   ]
  },
  {
   "cell_type": "code",
   "execution_count": 18,
   "metadata": {},
   "outputs": [],
   "source": [
    "class PrintStatusCallback():\n",
    "    def __init__(self): pass\n",
    "    def before_calc(self, epoch, **kwargs): print(f'About to start calculation {epoch}')\n",
    "    def after_calc(self, epoch, val, **kwargs): print(f'After {epoch}: {val}')"
   ]
  },
  {
   "cell_type": "markdown",
   "metadata": {},
   "source": [
    "- we can use the `hasattr(cb,'method_name')` pattern to check whether a particular callback method is defined in our callback"
   ]
  },
  {
   "cell_type": "code",
   "execution_count": 20,
   "metadata": {},
   "outputs": [
    {
     "name": "stdout",
     "output_type": "stream",
     "text": [
      "True\n",
      "True\n",
      "False\n"
     ]
    }
   ],
   "source": [
    "cb = PrintStatusCallback()\n",
    "print(hasattr(cb,'before_calc'))\n",
    "print(hasattr(cb,'after_calc'))\n",
    "print(hasattr(cb,'between_calc'))"
   ]
  },
  {
   "cell_type": "markdown",
   "metadata": {},
   "source": [
    "### Use callback to check status\n",
    "\n",
    "- below, we modify our `after_calc` method to return a flag when the value has exceeded 10"
   ]
  },
  {
   "cell_type": "code",
   "execution_count": 17,
   "metadata": {},
   "outputs": [
    {
     "name": "stdout",
     "output_type": "stream",
     "text": [
      "About to start calculation 0\n",
      "After 0: 0\n",
      "About to start calculation 1\n",
      "After 1: 1\n",
      "About to start calculation 2\n",
      "After 2: 5\n",
      "About to start calculation 3\n",
      "After 3: 14\n",
      "Early stopping at epoch 3\n"
     ]
    }
   ],
   "source": [
    "class PrintStatusCallback():\n",
    "    def __init__(self): pass\n",
    "    def before_calc(self, epoch, **kwargs): print(f'About to start calculation {epoch}')\n",
    "    def after_calc(self, epoch, val, **kwargs): \n",
    "        print(f'After {epoch}: {val}')\n",
    "        if val>10: return True\n",
    "        \n",
    "        \n",
    "def slow_calculation(cb=None):\n",
    "    res = 0\n",
    "    for i in range(5):\n",
    "        if cb and hasattr(cb,'before_calc'): cb.before_calc(i)\n",
    "        res += i**2\n",
    "        sleep(1)\n",
    "        if cb and hasattr(cb,'after_calc'): \n",
    "            if cb.after_calc(i, res):\n",
    "                print(f'Early stopping at epoch {i}')\n",
    "                break\n",
    "    \n",
    "slow_calculation(PrintStatusCallback())"
   ]
  },
  {
   "cell_type": "markdown",
   "metadata": {},
   "source": [
    "### Use callback to change state\n",
    "\n",
    "- we can also use callback methods to change the value that we care about by sticking our main control process in a class and the value that we want to change as an attribute of the class\n",
    "\n",
    "- our callback class can then access the value that we care about via the process class objects' attribute"
   ]
  },
  {
   "cell_type": "code",
   "execution_count": 29,
   "metadata": {},
   "outputs": [],
   "source": [
    "class SlowCalculator():\n",
    "    def __init__(self, cb=None): self.cb, self.res = cb, 0\n",
    "\n",
    "    def callback(self, cb_name, *args):\n",
    "        if not self.cb: return\n",
    "        # below: None is returned in case cb does not have an attribute called cb)name\n",
    "        cb = getattr(self.cb, cb_name, None) \n",
    "        # below: self is returned as the `calc` object in ModifyingCallback.after_calc\n",
    "        if cb: return cb(self, *args)\n",
    "    \n",
    "    def calc(self):\n",
    "        for i in range(5):\n",
    "            self.callback('before_calc', i)\n",
    "            self.res += i**2\n",
    "            sleep(1)\n",
    "            if self.callback('after_calc', i):\n",
    "                print('stopping early')\n",
    "                break\n",
    "                \n",
    "                \n",
    "class ModifyingCallback():\n",
    "    def after_calc(self, calc, epoch):\n",
    "        print(f'After {epoch}: {calc.res}')\n",
    "        if calc.res > 10: return True\n",
    "        if calc.res < 3: calc.res = calc.res*2"
   ]
  },
  {
   "cell_type": "code",
   "execution_count": 32,
   "metadata": {},
   "outputs": [
    {
     "name": "stdout",
     "output_type": "stream",
     "text": [
      "After 0: 0\n",
      "After 1: 1\n",
      "After 2: 6\n",
      "After 3: 15\n",
      "stopping early\n"
     ]
    },
    {
     "data": {
      "text/plain": [
       "15"
      ]
     },
     "execution_count": 32,
     "metadata": {},
     "output_type": "execute_result"
    }
   ],
   "source": [
    "calculator = SlowCalculator(ModifyingCallback())\n",
    "calculator.calc()\n",
    "calculator.res"
   ]
  },
  {
   "cell_type": "markdown",
   "metadata": {},
   "source": [
    "### `__call__`\n",
    "\n",
    "- the calculator + callback system above is a very generic pattern\n",
    "- one more simplification we can do is to eliminate the need to repeatedly use `self.callback` by changing the name of the function from `callback` to `__call__`"
   ]
  },
  {
   "cell_type": "code",
   "execution_count": 33,
   "metadata": {},
   "outputs": [],
   "source": [
    "class SlowCalculator():\n",
    "    def __init__(self, cb=None): self.cb, self.res = cb, 0\n",
    "\n",
    "    def __call__(self, cb_name, *args): # this simplifies to just calling self\n",
    "        if not self.cb: return\n",
    "        cb = getattr(self.cb, cb_name, None) \n",
    "        if cb: return cb(self, *args)\n",
    "    \n",
    "    def calc(self):\n",
    "        for i in range(5):\n",
    "            self('before_calc', i)  # this is actually calling __call__\n",
    "            self.res += i**2\n",
    "            sleep(1)\n",
    "            if self('after_calc', i): # this is actually calling __call__\n",
    "                print('stopping early')\n",
    "                break\n",
    "                \n",
    "                \n",
    "class ModifyingCallback():\n",
    "    def after_calc(self, calc, epoch):\n",
    "        print(f'After {epoch}: {calc.res}')\n",
    "        if calc.res > 10: return True\n",
    "        if calc.res < 3: calc.res = calc.res*2"
   ]
  },
  {
   "cell_type": "code",
   "execution_count": 34,
   "metadata": {},
   "outputs": [
    {
     "name": "stdout",
     "output_type": "stream",
     "text": [
      "After 0: 0\n",
      "After 1: 1\n",
      "After 2: 6\n",
      "After 3: 15\n",
      "stopping early\n"
     ]
    },
    {
     "data": {
      "text/plain": [
       "15"
      ]
     },
     "execution_count": 34,
     "metadata": {},
     "output_type": "execute_result"
    }
   ],
   "source": [
    "calculator = SlowCalculator(ModifyingCallback())\n",
    "calculator.calc()\n",
    "calculator.res"
   ]
  }
 ],
 "metadata": {
  "kernelspec": {
   "display_name": "Python 3",
   "language": "python",
   "name": "python3"
  },
  "language_info": {
   "codemirror_mode": {
    "name": "ipython",
    "version": 3
   },
   "file_extension": ".py",
   "mimetype": "text/x-python",
   "name": "python",
   "nbconvert_exporter": "python",
   "pygments_lexer": "ipython3",
   "version": "3.7.4"
  }
 },
 "nbformat": 4,
 "nbformat_minor": 2
}
