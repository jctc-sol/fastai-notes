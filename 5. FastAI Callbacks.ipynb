{
 "cells": [
  {
   "cell_type": "markdown",
   "metadata": {},
   "source": [
    "### Training Loop\n",
    "\n",
    "- the goal of callbacks in FastAI is to **allow the training loop to be highly customizable** \n",
    "- this is accomplished by injecting conditions such as `on_batch_begin`, `on_batch_end`, `on_epoch_begin`, `on_epoch_end` etc that trigger corresponding custom callback functions"
   ]
  },
  {
   "cell_type": "markdown",
   "metadata": {},
   "source": [
    "#### Basic Mini-Batch Training Loop"
   ]
  },
  {
   "cell_type": "code",
   "execution_count": null,
   "metadata": {},
   "outputs": [],
   "source": [
    "for epoch in range(epochs):\n",
    "    learn.model.train() # set to training mode\n",
    "    for xb,yb in learn.data.train_dl: # grabs mini-batch from dataloader\n",
    "        loss = learn.loss_func(learn.model(xb), yb) # compute loss\n",
    "        loss.backward()  # compute gradients\n",
    "        learn.opt.step() # update parameters\n",
    "        learn.opt.zero_grad() # reset gradients"
   ]
  },
  {
   "cell_type": "markdown",
   "metadata": {},
   "source": [
    "#### The \"infinitely customizable\" training loop\n",
    "\n",
    "The code snippet below demonstrates the scafold of a training loop that allows a wide variety of customizability based on callbacks."
   ]
  },
  {
   "cell_type": "code",
   "execution_count": null,
   "metadata": {},
   "outputs": [],
   "source": [
    "callbacks.on_train_begin()\n",
    "for _ in range(epoch):\n",
    "    callbacks.on_epoch_begin()  #---------------callback before an epoch begins\n",
    "    learn.model.train()\n",
    "    for xb,yb in learn.data.train_dl:\n",
    "        callbacks.on_batch_begin() #------------callback before a batch begins\n",
    "        y = model(xb)\n",
    "        callbacks.on_loss_begin()  #------------callback before loss computation begins\n",
    "        loss = loss_func(y, yb)\n",
    "        callbacks.on_backward_begin() #---------callback before gradient computation begin\n",
    "        loss.backward() # backward pass\n",
    "        callbacks.on_backward_end()  #----------callback after gradient computation begin\n",
    "        opt.step()\n",
    "        callbacks.on_step_end() #---------------callback after param update begins\n",
    "        opt.zero_grad() \n",
    "        callbacks.on_batch_end() #--------------callback after a batch\n",
    "    callbacks.on_epoch_end() #------------------callback after an epoch\n",
    "callbacks.on_train_end() #----------------------callback after training"
   ]
  },
  {
   "cell_type": "markdown",
   "metadata": {},
   "source": [
    "### Callback class\n",
    "\n",
    "To provide the generic functionality "
   ]
  },
  {
   "cell_type": "code",
   "execution_count": null,
   "metadata": {},
   "outputs": [],
   "source": []
  }
 ],
 "metadata": {
  "kernelspec": {
   "display_name": "Python 3",
   "language": "python",
   "name": "python3"
  },
  "language_info": {
   "codemirror_mode": {
    "name": "ipython",
    "version": 3
   },
   "file_extension": ".py",
   "mimetype": "text/x-python",
   "name": "python",
   "nbconvert_exporter": "python",
   "pygments_lexer": "ipython3",
   "version": "3.7.4"
  }
 },
 "nbformat": 4,
 "nbformat_minor": 2
}
