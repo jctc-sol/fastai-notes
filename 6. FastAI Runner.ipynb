{
 "cells": [
  {
   "cell_type": "markdown",
   "metadata": {},
   "source": [
    "### Runner\n",
    "\n",
    "The `Runner` class appears to be a new module in future version of FastAI. Its goal is to create a single class that \"*has access to everything and can change anything at any time*\". This allows the `Callback` class to be simplified.\n",
    "\n",
    "It utilizes a couple of helper functions: `camel2snake` and `listify` as shown below:\n",
    "\n",
    "#### camel2snake"
   ]
  },
  {
   "cell_type": "code",
   "execution_count": 21,
   "metadata": {},
   "outputs": [],
   "source": [
    "import re\n",
    "\n",
    "def camel2snake(name):\n",
    "    \"\"\"\n",
    "    Helper function that simply turns such string names like \"AbcDefGh\" into \"abc_def_gh\"\n",
    "    \"\"\"\n",
    "    _camel_re1 = re.compile('(.)([A-Z][a-z]+)')\n",
    "    _camel_re2 = re.compile('([a-z0-9])([A-Z])')\n",
    "    s1 = re.sub(_camel_re1, r'\\1_\\2', name)\n",
    "    return re.sub(_camel_re2, r'\\1_\\2', s1).lower()"
   ]
  },
  {
   "cell_type": "code",
   "execution_count": 5,
   "metadata": {},
   "outputs": [
    {
     "name": "stdout",
     "output_type": "stream",
     "text": [
      "AbcDef --> abc_def\n"
     ]
    }
   ],
   "source": [
    "print(f'AbcDef --> {camel2snake(\"AbcDef\")}')"
   ]
  },
  {
   "cell_type": "markdown",
   "metadata": {},
   "source": [
    "#### listify\n",
    "\n",
    "Returns input as list of \"stuff\""
   ]
  },
  {
   "cell_type": "code",
   "execution_count": 2,
   "metadata": {},
   "outputs": [],
   "source": [
    "from typing import *\n",
    "\n",
    "def listify(o):\n",
    "    if o is None: return []\n",
    "    if isinstance(o, list): return o\n",
    "    if isinstance(o, str): return [o]\n",
    "    if isinstance(o, Iterable): return list(o)\n",
    "    return [o]"
   ]
  },
  {
   "cell_type": "code",
   "execution_count": 13,
   "metadata": {},
   "outputs": [
    {
     "name": "stdout",
     "output_type": "stream",
     "text": [
      "[]\n",
      "['Tom']\n",
      "[34]\n",
      "[1, '43', 'Tom']\n",
      "[1, 2, 3]\n"
     ]
    }
   ],
   "source": [
    "# test cases for listify\n",
    "print(listify(None))\n",
    "print(listify(\"Tom\"))\n",
    "print(listify(34))\n",
    "print(listify([1,\"43\",'Tom']))\n",
    "print(listify(iter([1,2,3])))"
   ]
  },
  {
   "cell_type": "markdown",
   "metadata": {},
   "source": [
    "#### Callback (simplified)\n",
    "\n",
    "Note that the new `Callback` class is much more minimalistic than what's implemented in v1 of FastAI!"
   ]
  },
  {
   "cell_type": "code",
   "execution_count": 14,
   "metadata": {},
   "outputs": [],
   "source": [
    "class Callback():\n",
    "    _order=0 # used to sort order of callback to execute, 0 being the base layer parent Callback class\n",
    "    def set_runner(self, run): self.run=run\n",
    "    def __getattr__(self, k): return getattr(self.run, k)  # reaches into runner to get attribute k\n",
    "    \n",
    "    @property\n",
    "    def name(self):\n",
    "        name = re.sub(r'Callback$', '', self.__class__.__name__)\n",
    "        return camel2snake(name or 'callback')\n",
    "    \n",
    "    def __call__(self, cb_name):  # check if the callback specified by cb_name exists\n",
    "        f = getattr(self, cb_name, None)\n",
    "        if f and f(): return True\n",
    "        return False"
   ]
  },
  {
   "cell_type": "markdown",
   "metadata": {},
   "source": [
    "#### TrainEvalCallback\n",
    "\n",
    "This is simple callback that toggles the model between training and eval modes"
   ]
  },
  {
   "cell_type": "code",
   "execution_count": 15,
   "metadata": {},
   "outputs": [],
   "source": [
    "class TrainEvalCallback(Callback):\n",
    "    def begin_fit(self):\n",
    "        self.run.n_epochs=0.\n",
    "        self.run.n_iter=0\n",
    "    \n",
    "    def after_batch(self):\n",
    "        if not self.in_train: return\n",
    "        self.run.n_epochs += 1./self.iters\n",
    "        self.run.n_iter   += 1\n",
    "        \n",
    "    def begin_epoch(self):\n",
    "        self.run.n_epochs=self.epoch\n",
    "        self.model.train()\n",
    "        self.run.in_train=True\n",
    "\n",
    "    def begin_validate(self):\n",
    "        self.model.eval()\n",
    "        self.run.in_train=False"
   ]
  },
  {
   "cell_type": "markdown",
   "metadata": {},
   "source": [
    "#### Custom exceptions\n",
    "\n",
    "This is a rather wacky idea to use exceptions as a flow control mechanism in our training loop. The idea here is to define three-levels of callback mechanisms:\n",
    "- level 0: at cancel train level\n",
    "- leve1 1: at cancel epoch level\n",
    "- level 2: at cancel batch level\n",
    "\n",
    "This provides all other callbacks with the option to raise these exceptions. For example: \n",
    "```\n",
    "def MyCallback(Callback): \n",
    "    ...\n",
    "    if condition:\n",
    "        raise CancelTrainException()\n",
    "``` \n",
    "Where the `condition` could be the condition for early stopping."
   ]
  },
  {
   "cell_type": "code",
   "execution_count": 38,
   "metadata": {},
   "outputs": [],
   "source": [
    "class CancelTrainException(Exception): pass\n",
    "class CancelEpochException(Exception): pass\n",
    "class CancelBatchException(Exception): pass"
   ]
  },
  {
   "cell_type": "markdown",
   "metadata": {},
   "source": [
    "#### Runner\n",
    "The `Runner` class is an encapsulating wrapper around callbacks, dataset, model, loss, and optimizer. It is actually a objectified version of our \"*infinitely customizable training loop*\" that we studied before."
   ]
  },
  {
   "cell_type": "code",
   "execution_count": 32,
   "metadata": {},
   "outputs": [],
   "source": [
    "class Runner():\n",
    "    \n",
    "    def __init__(self, cbs=None, cb_funcs=None):\n",
    "        cbs = listify(cbs)\n",
    "        for cbf in listify(cb_funcs):\n",
    "            # set self.(cb.name) to the callback object (i.e. self.train_eval = TrainEvalCallback()\n",
    "            cb = cbf()            \n",
    "            setattr(self, cb.name, cb)  \n",
    "            cbs.append(cb)\n",
    "        self.stop,self.cbs = False,[TrainEvalCallback()]+cbs\n",
    "\n",
    "    # this is the method called whenever you see self(callback_name)\n",
    "    def __call__(self, cb_name):\n",
    "        # default to false\n",
    "        res = False\n",
    "        # sort the order of callbacks to execute \n",
    "        for cb in sorted(self.cbs, key=lambda x: x._order): \n",
    "            res = cb(cb_name) or res\n",
    "        return res\n",
    "\n",
    "    # pass-along property methods that makes it easier to access learner properties from runner object\n",
    "    @property\n",
    "    def opt(self):       return self.learn.opt\n",
    "    @property\n",
    "    def model(self):     return self.learn.model\n",
    "    @property\n",
    "    def loss_func(self): return self.learn.loss_func\n",
    "    @property\n",
    "    def data(self):      return self.learn.data\n",
    "\n",
    "    # single-batch rountine, called in the all_batches method\n",
    "    def one_batch(self, xb, yb):\n",
    "        try:\n",
    "            self.xb,self.yb = xb,yb\n",
    "            self('begin_batch')  # ex. call the \"begin_batch\" callback\n",
    "            self.pred = self.model(self.xb)\n",
    "            self('after_pred')\n",
    "            self.loss = self.loss_func(self.pred, self.yb)\n",
    "            self('after_loss')\n",
    "            if not self.in_train: return # stop here if in eval mode as you don't need to backprop & update\n",
    "            self.loss.backward()\n",
    "            self('after_backward')\n",
    "            self.opt.step()\n",
    "            self('after_step')\n",
    "            self.opt.zero_grad()\n",
    "        # call after_cancel_batch callback if CancelBatchException occurs\n",
    "        except CancelBatchException: self('after_cancel_batch')  \n",
    "        finally: self('after_batch')\n",
    "\n",
    "    def all_batches(self, dl):\n",
    "        self.iters = len(dl)\n",
    "        try:\n",
    "            for xb,yb in dl: self.one_batch(xb, yb)\n",
    "        # call after_cancel_epoch callback if CancelEpochException occurs\n",
    "        except CancelEpochException: self('after_cancel_epoch')\n",
    "\n",
    "    def fit(self, epochs, learn):\n",
    "        # initialization\n",
    "        self.epochs,self.learn,self.loss = epochs,learn,tensor(0.)\n",
    "\n",
    "        try:\n",
    "            # pass the runner object to all the callbacks (note this is where the set_runner method is called)\n",
    "            for cb in self.cbs: cb.set_runner(self)\n",
    "            self('begin_fit')\n",
    "            for epoch in range(epochs):\n",
    "                self.epoch = epoch\n",
    "                if not self('begin_epoch'): self.all_batches(self.data.train_dl)\n",
    "                with torch.no_grad(): \n",
    "                    if not self('begin_validate'): self.all_batches(self.data.valid_dl)\n",
    "                self('after_epoch')\n",
    "        # call after_cancel_epoch callback if CancelEpochException occurs\n",
    "        except CancelTrainException: self('after_cancel_train')\n",
    "        # cleanup\n",
    "        finally:\n",
    "            self('after_fit')\n",
    "            self.learn = None"
   ]
  },
  {
   "cell_type": "code",
   "execution_count": null,
   "metadata": {},
   "outputs": [],
   "source": []
  }
 ],
 "metadata": {
  "kernelspec": {
   "display_name": "Python 3",
   "language": "python",
   "name": "python3"
  },
  "language_info": {
   "codemirror_mode": {
    "name": "ipython",
    "version": 3
   },
   "file_extension": ".py",
   "mimetype": "text/x-python",
   "name": "python",
   "nbconvert_exporter": "python",
   "pygments_lexer": "ipython3",
   "version": "3.7.4"
  }
 },
 "nbformat": 4,
 "nbformat_minor": 2
}
